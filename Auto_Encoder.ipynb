{
  "cells": [
    {
      "cell_type": "markdown",
      "metadata": {
        "id": "FzIbtOZ-HvGR"
      },
      "source": [
        "# Building an Autoencoder using Pytorch\n",
        "Introduction and Setup\n",
        "In this lab, we will be building an autoencoder using Pytorch to compress and decompress images. The process includes:\n",
        "\n",
        "1. Loading and preprocessing the dataset.\n",
        "2. Implementing a simple Multi-Layer Perceptron (MLP)-based autoencoder.\n",
        "3. Training the model and evaluating its performance.\n",
        "4. Visualizing and interpreting the results.\n",
        "\n",
        "Before we start, we need to import the necessary libraries."
      ]
    },
    {
      "cell_type": "markdown",
      "metadata": {
        "id": "N6sgoiWSIA6f"
      },
      "source": [
        "# Importing Libraries\n",
        "Here, we will import the libraries that we will use throughout the lab:\n",
        "\n",
        "1. **PyTorch**: This is the core library we will use for building and training the neural network, including the model definition, loss functions, and optimization routines.\n",
        "2. **TorchVision**: Provides utilities for loading and transforming image datasets, such as the MNIST dataset, and applying image transformations (e.g., resizing, normalizing).\n",
        "3. **NumPy**: Used for handling numerical arrays, especially for dataset manipulation and when working with batch processing.\n",
        "4. **Matplotlib**: Helps visualize the data, the reconstructed images, and the evaluation metrics (e.g., loss curves, PSNR, SSIM) during the training process.\n",
        "5. **skimage.metrics**: Specifically, we import the `structural_similarity` function (SSIM) from this library to evaluate image quality based on the structural similarity index, which is a measure of image quality that compares the similarity between the original and the reconstructed images.\n",
        "6. **os**: Used for handling file system operations like creating directories to store model checkpoints or outputs.\n"
      ]
    },
    {
      "cell_type": "code",
      "execution_count": 1,
      "metadata": {
        "id": "JNSXZldDE-nh"
      },
      "outputs": [
        {
          "name": "stderr",
          "output_type": "stream",
          "text": [
            "d:\\Users\\GEOMETREX\\anaconda3\\envs\\pytorch\\lib\\site-packages\\tqdm\\auto.py:21: TqdmWarning: IProgress not found. Please update jupyter and ipywidgets. See https://ipywidgets.readthedocs.io/en/stable/user_install.html\n",
            "  from .autonotebook import tqdm as notebook_tqdm\n"
          ]
        }
      ],
      "source": [
        "# Importing Libraries\n",
        "import torch\n",
        "import torch.nn as nn\n",
        "import torch.optim as optim\n",
        "from torch.utils.data import DataLoader, random_split\n",
        "from torchvision import datasets, transforms\n",
        "\n",
        "import numpy as np\n",
        "import matplotlib.pyplot as plt\n",
        "\n",
        "from skimage.metrics import structural_similarity as ssim\n",
        "import os"
      ]
    },
    {
      "cell_type": "markdown",
      "metadata": {
        "id": "AjjqXscFH9wI"
      },
      "source": [
        "# Loading and Preprocessing the Dataset\n",
        "In this step, we will load the MNIST dataset, which contains 28x28 pixel grayscale images of handwritten digits. This dataset is widely used for image processing tasks.\n",
        "\n",
        "We'll load the dataset and apply the following preprocessing steps:\n",
        "1. Convert the images to PyTorch tensors.\n",
        "2. Resize the images to 128x128 pixels to match the model's expected input size.\n",
        "3. Duplicate the single grayscale channel into three channels to adapt the dataset for models designed to process 3-channel (RGB) images.\n",
        "\n",
        "These preprocessing steps ensure compatibility with the model architecture and improve training stability. We will then create data loaders for easy batch processing of the dataset.\n"
      ]
    },
    {
      "cell_type": "code",
      "execution_count": 2,
      "metadata": {
        "colab": {
          "base_uri": "https://localhost:8080/"
        },
        "id": "o6dQ8_98puqD",
        "outputId": "2f345b8b-fb77-48d4-a5c5-aa4f9403a583"
      },
      "outputs": [
        {
          "name": "stdout",
          "output_type": "stream",
          "text": [
            "Downloading http://yann.lecun.com/exdb/mnist/train-images-idx3-ubyte.gz\n",
            "Failed to download (trying next):\n",
            "HTTP Error 403: Forbidden\n",
            "\n",
            "Downloading https://ossci-datasets.s3.amazonaws.com/mnist/train-images-idx3-ubyte.gz\n",
            "Downloading https://ossci-datasets.s3.amazonaws.com/mnist/train-images-idx3-ubyte.gz to ./data\\MNIST\\raw\\train-images-idx3-ubyte.gz\n"
          ]
        },
        {
          "name": "stderr",
          "output_type": "stream",
          "text": [
            "100%|██████████| 9912422/9912422 [00:01<00:00, 9106413.05it/s] \n"
          ]
        },
        {
          "name": "stdout",
          "output_type": "stream",
          "text": [
            "Extracting ./data\\MNIST\\raw\\train-images-idx3-ubyte.gz to ./data\\MNIST\\raw\n",
            "\n",
            "Downloading http://yann.lecun.com/exdb/mnist/train-labels-idx1-ubyte.gz\n",
            "Failed to download (trying next):\n",
            "HTTP Error 403: Forbidden\n",
            "\n",
            "Downloading https://ossci-datasets.s3.amazonaws.com/mnist/train-labels-idx1-ubyte.gz\n",
            "Downloading https://ossci-datasets.s3.amazonaws.com/mnist/train-labels-idx1-ubyte.gz to ./data\\MNIST\\raw\\train-labels-idx1-ubyte.gz\n"
          ]
        },
        {
          "name": "stderr",
          "output_type": "stream",
          "text": [
            "100%|██████████| 28881/28881 [00:00<00:00, 277966.13it/s]\n"
          ]
        },
        {
          "name": "stdout",
          "output_type": "stream",
          "text": [
            "Extracting ./data\\MNIST\\raw\\train-labels-idx1-ubyte.gz to ./data\\MNIST\\raw\n",
            "\n",
            "Downloading http://yann.lecun.com/exdb/mnist/t10k-images-idx3-ubyte.gz\n",
            "Failed to download (trying next):\n",
            "HTTP Error 403: Forbidden\n",
            "\n",
            "Downloading https://ossci-datasets.s3.amazonaws.com/mnist/t10k-images-idx3-ubyte.gz\n",
            "Downloading https://ossci-datasets.s3.amazonaws.com/mnist/t10k-images-idx3-ubyte.gz to ./data\\MNIST\\raw\\t10k-images-idx3-ubyte.gz\n"
          ]
        },
        {
          "name": "stderr",
          "output_type": "stream",
          "text": [
            "100%|██████████| 1648877/1648877 [00:00<00:00, 2181914.93it/s]\n"
          ]
        },
        {
          "name": "stdout",
          "output_type": "stream",
          "text": [
            "Extracting ./data\\MNIST\\raw\\t10k-images-idx3-ubyte.gz to ./data\\MNIST\\raw\n",
            "\n",
            "Downloading http://yann.lecun.com/exdb/mnist/t10k-labels-idx1-ubyte.gz\n",
            "Failed to download (trying next):\n",
            "HTTP Error 403: Forbidden\n",
            "\n",
            "Downloading https://ossci-datasets.s3.amazonaws.com/mnist/t10k-labels-idx1-ubyte.gz\n",
            "Downloading https://ossci-datasets.s3.amazonaws.com/mnist/t10k-labels-idx1-ubyte.gz to ./data\\MNIST\\raw\\t10k-labels-idx1-ubyte.gz\n"
          ]
        },
        {
          "name": "stderr",
          "output_type": "stream",
          "text": [
            "100%|██████████| 4542/4542 [00:00<?, ?it/s]\n"
          ]
        },
        {
          "name": "stdout",
          "output_type": "stream",
          "text": [
            "Extracting ./data\\MNIST\\raw\\t10k-labels-idx1-ubyte.gz to ./data\\MNIST\\raw\n",
            "\n",
            "Batch shape: torch.Size([256, 3, 32, 32]), Labels: torch.Size([256])\n",
            "Training set size: 48000\n",
            "Validation set size: 12000\n",
            "Test set size: 10000\n"
          ]
        }
      ],
      "source": [
        "# Set random seed for reproducibility\n",
        "random_seed = 42\n",
        "torch.manual_seed(random_seed)\n",
        "np.random.seed(random_seed)\n",
        "\n",
        "# Define transformations for 3-channel images\n",
        "transform = transforms.Compose([\n",
        "    transforms.ToTensor(),\n",
        "    transforms.Resize((32, 32)),\n",
        "    transforms.Lambda(lambda x: x.repeat(3, 1, 1)),  # Duplicate the single channel to 3\n",
        "])\n",
        "\n",
        "# Download and load the training data\n",
        "train_dataset = datasets.MNIST(\n",
        "    root='./data',  # Directory to store the dataset\n",
        "    train=True,     # Specify training dataset\n",
        "    transform=transform,  # Apply transformations\n",
        "    download=True   # Download if not already present\n",
        ")\n",
        "\n",
        "# Download and load the test data\n",
        "test_dataset = datasets.MNIST(\n",
        "    root='./data',\n",
        "    train=False,\n",
        "    transform=transform,\n",
        "    download=True\n",
        ")\n",
        "\n",
        "# Split the training data into training and validation sets (80% train, 20% validation)\n",
        "train_size = int(0.8 * len(train_dataset))  # 80% for training\n",
        "val_size = len(train_dataset) - train_size   # 20% for validation\n",
        "train_data, val_data = random_split(train_dataset, [train_size, val_size], generator=torch.Generator().manual_seed(random_seed))\n",
        "\n",
        "# Create data loaders\n",
        "train_loader = DataLoader(train_data, batch_size=256, shuffle=True)\n",
        "val_loader = DataLoader(val_data, batch_size=256, shuffle=False)\n",
        "test_loader = DataLoader(test_dataset, batch_size=32, shuffle=False)\n",
        "\n",
        "# Check the data loader\n",
        "data_iter = iter(train_loader)\n",
        "images, labels = next(data_iter)\n",
        "print(f\"Batch shape: {images.shape}, Labels: {labels.shape}\")\n",
        "\n",
        "print(f\"Training set size: {len(train_data)}\")\n",
        "print(f\"Validation set size: {len(val_data)}\")\n",
        "print(f\"Test set size: {len(test_dataset)}\")"
      ]
    },
    {
      "cell_type": "markdown",
      "metadata": {
        "id": "47fs6No6JFOZ"
      },
      "source": [
        "# Defining the MLP Autoencoder\n",
        "Next, we will define a simple Multi-Layer Perceptron (MLP)-based autoencoder using PyTorch. An autoencoder consists of two main components:\n",
        "\n",
        "- **Encoder:** Compresses the input image into a smaller latent representation by progressively reducing its dimensionality.\n",
        "- **Decoder:** Reconstructs the image from the latent representation back to its original dimensions.\n",
        "\n",
        "The model is implemented as a class that inherits from `nn.Module`. It uses fully connected (dense) layers, which are typical for MLP architectures. The encoder flattens the input image and reduces its size through successive layers, while the decoder reconstructs the image and reshapes it to its original dimensions using a sigmoid activation function to output pixel values between 0 and 1.\n",
        "\n",
        "This structure allows the autoencoder to learn compact, meaningful representations of the data.\n"
      ]
    },
    {
      "cell_type": "code",
      "execution_count": 3,
      "metadata": {
        "colab": {
          "base_uri": "https://localhost:8080/"
        },
        "id": "98GI-PPtJFWf",
        "outputId": "45a6009e-1ac0-4395-fc8a-f08ea00166ee"
      },
      "outputs": [
        {
          "name": "stdout",
          "output_type": "stream",
          "text": [
            "----------------------------------------------------------------\n",
            "        Layer (type)               Output Shape         Param #\n",
            "================================================================\n",
            "           Flatten-1                 [-1, 3072]               0\n",
            "            Linear-2                  [-1, 256]         786,688\n",
            "              ReLU-3                  [-1, 256]               0\n",
            "            Linear-4                  [-1, 128]          32,896\n",
            "              ReLU-5                  [-1, 128]               0\n",
            "            Linear-6                   [-1, 64]           8,256\n",
            "            Linear-7                  [-1, 128]           8,320\n",
            "              ReLU-8                  [-1, 128]               0\n",
            "            Linear-9                  [-1, 256]          33,024\n",
            "             ReLU-10                  [-1, 256]               0\n",
            "           Linear-11                 [-1, 3072]         789,504\n",
            "          Sigmoid-12                 [-1, 3072]               0\n",
            "        Unflatten-13            [-1, 3, 32, 32]               0\n",
            "================================================================\n",
            "Total params: 1,658,688\n",
            "Trainable params: 1,658,688\n",
            "Non-trainable params: 0\n",
            "----------------------------------------------------------------\n",
            "Input size (MB): 0.01\n",
            "Forward/backward pass size (MB): 0.11\n",
            "Params size (MB): 6.33\n",
            "Estimated Total Size (MB): 6.45\n",
            "----------------------------------------------------------------\n"
          ]
        }
      ],
      "source": [
        "# Define the Autoencoder model using MLP\n",
        "class Autoencoder(nn.Module):\n",
        "    def __init__(self):\n",
        "        super(Autoencoder, self).__init__()\n",
        "\n",
        "        # Encoder\n",
        "        self.encoder = nn.Sequential(\n",
        "            nn.Flatten(),  # Flatten the input to a 1D vector\n",
        "            nn.Linear(3 * 32 * 32, 256),  # Fully connected layer (input size: 3*32*32)\n",
        "            nn.ReLU(),\n",
        "            nn.Linear(256, 128),  # Latent space representation\n",
        "            nn.ReLU(),\n",
        "            nn.Linear(128, 64)\n",
        "        )\n",
        "\n",
        "        # Decoder\n",
        "        self.decoder = nn.Sequential(\n",
        "            nn.Linear(64, 128),\n",
        "            nn.ReLU(),\n",
        "            nn.Linear(128, 256),\n",
        "            nn.ReLU(),\n",
        "            nn.Linear(256, 3 * 32 * 32),  # Output layer to get back to original input size\n",
        "            nn.Sigmoid(),  # Sigmoid activation to get output in [0, 1] range\n",
        "            nn.Unflatten(1, (3, 32, 32))  # Reshape back to (3, 32, 32)\n",
        "        )\n",
        "\n",
        "    def forward(self, x):\n",
        "        x = self.encoder(x)\n",
        "        x = self.decoder(x)\n",
        "        return x\n",
        "\n",
        "\n",
        "device = torch.device(\"cuda\")\n",
        "# Build the autoencoder\n",
        "autoencoder = Autoencoder().to(device)\n",
        "\n",
        "\n",
        "# Print model summary (use a batch size of 1 and input size of (3, 32, 32))\n",
        "from torchsummary import summary\n",
        "summary(autoencoder, input_size=((3*32*32,)))  # For input size of 3x32x32"
      ]
    },
    {
      "cell_type": "markdown",
      "metadata": {
        "id": "wRG2GucjLbJ-"
      },
      "source": [
        "### SSIM Metric:\n",
        "- We also define a custom SSIM (Structural Similarity Index Measure) function to complement PSNR for assessing image quality. While PSNR measures pixel-wise similarity, SSIM focuses on the structural similarity of images, making it more perceptually relevant for human vision.\n",
        "- SSIM evaluates luminance, contrast, and structure.\n",
        "\n",
        "### PSNR Metric:\n",
        "- We define a custom PSNR (Peak Signal-to-Noise Ratio) function as a metric to evaluate the model's performance. PSNR is a widely used measure of image reconstruction quality. Higher PSNR values indicate better reconstruction quality, with less loss in image detail.\n",
        "- The function computes the ratio of the maximum possible pixel value to the root mean square error (RMSE) between the original and reconstructed image. PSNR helps assess how well the model preserves image details after compression.\n"
      ]
    },
    {
      "cell_type": "code",
      "execution_count": 4,
      "metadata": {
        "id": "Da1BhdSEUP0T"
      },
      "outputs": [],
      "source": [
        "# Define SSIM metric function\n",
        "def compute_ssim(y_true, y_pred):\n",
        "    # Convert PyTorch tensors to NumPy arrays\n",
        "    y_true = y_true.detach().cpu().numpy()\n",
        "    y_pred = y_pred.detach().cpu().numpy()\n",
        "\n",
        "    # Ensure the images are in the correct format (height, width, channels)\n",
        "    y_true = np.moveaxis(y_true, 1, -1)  # Move the channel dimension to the last axis\n",
        "    y_pred = np.moveaxis(y_pred, 1, -1)  # Move the channel dimension to the last axis\n",
        "\n",
        "    # Compute SSIM for the batch with a smaller window size and correct channel_axis\n",
        "    return np.mean([ssim(y_true[i], y_pred[i], data_range=1, win_size=3, channel_axis=-1) for i in range(y_true.shape[0])])  # Average SSIM for batch\n",
        "\n",
        "# Define PSNR metric function for a batch\n",
        "def psnr(y_true, y_pred, max_val=1.0):\n",
        "    float_type = torch.float32\n",
        "    y_true = y_true.to(float_type)\n",
        "    y_pred = y_pred.to(float_type)\n",
        "\n",
        "    mse = torch.mean((y_true - y_pred) ** 2, dim=(1, 2, 3))\n",
        "    psnr = 20 * torch.log10(torch.tensor(max_val)) - 10 * torch.log10(mse)\n",
        "    return torch.mean(psnr)\n"
      ]
    },
    {
      "cell_type": "markdown",
      "metadata": {
        "id": "fU2wKKR-ylV1"
      },
      "source": [
        "# Compiling the Model\n",
        "\n",
        "In this step, we define how the model will learn during training by specifying the optimizer, loss function, the hyper-parameters and metrics.\n",
        "\n",
        "\n",
        "### Loss Function:\n",
        "- Mean Squared Error (MSE) is used as the loss function. It calculates the average squared difference between the original and reconstructed images. MSE is ideal for image reconstruction tasks because it penalizes larger differences between pixel values, guiding the model to minimize the error during training.\n",
        "\n",
        "\n",
        "### Optimizer:\n",
        "- We use the Adam optimizer, a popular choice for training deep learning models. Adam adapts the learning rate based on the gradients, combining the benefits of momentum (faster convergence) and adaptive learning rates (stabilizing training).\n"
      ]
    },
    {
      "cell_type": "code",
      "execution_count": 5,
      "metadata": {
        "id": "EooUL15nLiE1"
      },
      "outputs": [],
      "source": [
        "# Hyperparameters\n",
        "num_epochs = 20  # Number of epochs\n",
        "batch_size = 64  # Batch size for the DataLoader\n",
        "learning_rate = 1e-4  # Learning rate for the optimizer\n",
        "best_checkpoint = './saved_models/mlp_ae_best.pth'  # Path to save the best model\n",
        "\n",
        "# Create the directory if it doesn't exist\n",
        "os.makedirs(os.path.dirname(best_checkpoint), exist_ok=True)\n",
        "\n",
        "# Loss function (MSE)\n",
        "loss_fn = nn.MSELoss()\n",
        "\n",
        "# Define the optimizer (Adam)\n",
        "optimizer = optim.Adam(autoencoder.parameters(), lr=learning_rate)\n",
        "\n",
        "# Set up the best validation loss tracking\n",
        "best_val_loss = float('inf')"
      ]
    },
    {
      "cell_type": "markdown",
      "metadata": {
        "id": "JqxjVcBMLlhG"
      },
      "source": [
        "# Training the MLP Autoencoder\n",
        "\n",
        "We will now train the model using the training data. The goal is to minimize the reconstruction error (MSE). We will also validate the model on the test set to track its generalization performance."
      ]
    },
    {
      "cell_type": "code",
      "execution_count": 6,
      "metadata": {
        "colab": {
          "base_uri": "https://localhost:8080/"
        },
        "id": "oDX6JsUWzy3k",
        "outputId": "00aa61cc-034e-400b-f878-1fbb7718dd4c"
      },
      "outputs": [
        {
          "name": "stderr",
          "output_type": "stream",
          "text": [
            "  0%|          | 0/188 [00:00<?, ?it/s]"
          ]
        },
        {
          "name": "stderr",
          "output_type": "stream",
          "text": [
            "100%|██████████| 188/188 [00:46<00:00,  4.03it/s]\n"
          ]
        },
        {
          "name": "stdout",
          "output_type": "stream",
          "text": [
            "Epoch 1/20 - Train Loss: 0.0984, Train PSNR: 10.8416, Train SSIM: 0.2084, Val Loss: 0.0591, Val PSNR: 12.4716, Val SSIM: 0.3681\n",
            "Model saved with validation loss: 0.0591\n"
          ]
        },
        {
          "name": "stderr",
          "output_type": "stream",
          "text": [
            "100%|██████████| 188/188 [00:45<00:00,  4.11it/s]\n"
          ]
        },
        {
          "name": "stdout",
          "output_type": "stream",
          "text": [
            "Epoch 2/20 - Train Loss: 0.0567, Train PSNR: 12.6653, Train SSIM: 0.3731, Val Loss: 0.0539, Val PSNR: 12.9101, Val SSIM: 0.4148\n",
            "Model saved with validation loss: 0.0539\n"
          ]
        },
        {
          "name": "stderr",
          "output_type": "stream",
          "text": [
            "  6%|▌         | 11/188 [00:02<00:44,  3.98it/s]\n"
          ]
        },
        {
          "ename": "KeyboardInterrupt",
          "evalue": "",
          "output_type": "error",
          "traceback": [
            "\u001b[1;31m---------------------------------------------------------------------------\u001b[0m",
            "\u001b[1;31mKeyboardInterrupt\u001b[0m                         Traceback (most recent call last)",
            "Cell \u001b[1;32mIn[6], line 10\u001b[0m\n\u001b[0;32m      8\u001b[0m running_train_psnr \u001b[38;5;241m=\u001b[39m \u001b[38;5;241m0.0\u001b[39m\n\u001b[0;32m      9\u001b[0m running_train_ssim \u001b[38;5;241m=\u001b[39m \u001b[38;5;241m0.0\u001b[39m\n\u001b[1;32m---> 10\u001b[0m \u001b[38;5;28;01mfor\u001b[39;00m images, _ \u001b[38;5;129;01min\u001b[39;00m tqdm(train_loader):\n\u001b[0;32m     11\u001b[0m     images \u001b[38;5;241m=\u001b[39m images\u001b[38;5;241m.\u001b[39mto(device)\n\u001b[0;32m     12\u001b[0m     optimizer\u001b[38;5;241m.\u001b[39mzero_grad()\n",
            "File \u001b[1;32md:\\Users\\GEOMETREX\\anaconda3\\envs\\pytorch\\lib\\site-packages\\tqdm\\std.py:1181\u001b[0m, in \u001b[0;36mtqdm.__iter__\u001b[1;34m(self)\u001b[0m\n\u001b[0;32m   1178\u001b[0m time \u001b[38;5;241m=\u001b[39m \u001b[38;5;28mself\u001b[39m\u001b[38;5;241m.\u001b[39m_time\n\u001b[0;32m   1180\u001b[0m \u001b[38;5;28;01mtry\u001b[39;00m:\n\u001b[1;32m-> 1181\u001b[0m     \u001b[38;5;28;01mfor\u001b[39;00m obj \u001b[38;5;129;01min\u001b[39;00m iterable:\n\u001b[0;32m   1182\u001b[0m         \u001b[38;5;28;01myield\u001b[39;00m obj\n\u001b[0;32m   1183\u001b[0m         \u001b[38;5;66;03m# Update and possibly print the progressbar.\u001b[39;00m\n\u001b[0;32m   1184\u001b[0m         \u001b[38;5;66;03m# Note: does not call self.update(1) for speed optimisation.\u001b[39;00m\n",
            "File \u001b[1;32md:\\Users\\GEOMETREX\\anaconda3\\envs\\pytorch\\lib\\site-packages\\torch\\utils\\data\\dataloader.py:681\u001b[0m, in \u001b[0;36m_BaseDataLoaderIter.__next__\u001b[1;34m(self)\u001b[0m\n\u001b[0;32m    678\u001b[0m \u001b[38;5;28;01mif\u001b[39;00m \u001b[38;5;28mself\u001b[39m\u001b[38;5;241m.\u001b[39m_sampler_iter \u001b[38;5;129;01mis\u001b[39;00m \u001b[38;5;28;01mNone\u001b[39;00m:\n\u001b[0;32m    679\u001b[0m     \u001b[38;5;66;03m# TODO(https://github.com/pytorch/pytorch/issues/76750)\u001b[39;00m\n\u001b[0;32m    680\u001b[0m     \u001b[38;5;28mself\u001b[39m\u001b[38;5;241m.\u001b[39m_reset()  \u001b[38;5;66;03m# type: ignore[call-arg]\u001b[39;00m\n\u001b[1;32m--> 681\u001b[0m data \u001b[38;5;241m=\u001b[39m \u001b[38;5;28;43mself\u001b[39;49m\u001b[38;5;241;43m.\u001b[39;49m\u001b[43m_next_data\u001b[49m\u001b[43m(\u001b[49m\u001b[43m)\u001b[49m\n\u001b[0;32m    682\u001b[0m \u001b[38;5;28mself\u001b[39m\u001b[38;5;241m.\u001b[39m_num_yielded \u001b[38;5;241m+\u001b[39m\u001b[38;5;241m=\u001b[39m \u001b[38;5;241m1\u001b[39m\n\u001b[0;32m    683\u001b[0m \u001b[38;5;28;01mif\u001b[39;00m \u001b[38;5;28mself\u001b[39m\u001b[38;5;241m.\u001b[39m_dataset_kind \u001b[38;5;241m==\u001b[39m _DatasetKind\u001b[38;5;241m.\u001b[39mIterable \u001b[38;5;129;01mand\u001b[39;00m \\\n\u001b[0;32m    684\u001b[0m         \u001b[38;5;28mself\u001b[39m\u001b[38;5;241m.\u001b[39m_IterableDataset_len_called \u001b[38;5;129;01mis\u001b[39;00m \u001b[38;5;129;01mnot\u001b[39;00m \u001b[38;5;28;01mNone\u001b[39;00m \u001b[38;5;129;01mand\u001b[39;00m \\\n\u001b[0;32m    685\u001b[0m         \u001b[38;5;28mself\u001b[39m\u001b[38;5;241m.\u001b[39m_num_yielded \u001b[38;5;241m>\u001b[39m \u001b[38;5;28mself\u001b[39m\u001b[38;5;241m.\u001b[39m_IterableDataset_len_called:\n",
            "File \u001b[1;32md:\\Users\\GEOMETREX\\anaconda3\\envs\\pytorch\\lib\\site-packages\\torch\\utils\\data\\dataloader.py:721\u001b[0m, in \u001b[0;36m_SingleProcessDataLoaderIter._next_data\u001b[1;34m(self)\u001b[0m\n\u001b[0;32m    719\u001b[0m \u001b[38;5;28;01mdef\u001b[39;00m \u001b[38;5;21m_next_data\u001b[39m(\u001b[38;5;28mself\u001b[39m):\n\u001b[0;32m    720\u001b[0m     index \u001b[38;5;241m=\u001b[39m \u001b[38;5;28mself\u001b[39m\u001b[38;5;241m.\u001b[39m_next_index()  \u001b[38;5;66;03m# may raise StopIteration\u001b[39;00m\n\u001b[1;32m--> 721\u001b[0m     data \u001b[38;5;241m=\u001b[39m \u001b[38;5;28;43mself\u001b[39;49m\u001b[38;5;241;43m.\u001b[39;49m\u001b[43m_dataset_fetcher\u001b[49m\u001b[38;5;241;43m.\u001b[39;49m\u001b[43mfetch\u001b[49m\u001b[43m(\u001b[49m\u001b[43mindex\u001b[49m\u001b[43m)\u001b[49m  \u001b[38;5;66;03m# may raise StopIteration\u001b[39;00m\n\u001b[0;32m    722\u001b[0m     \u001b[38;5;28;01mif\u001b[39;00m \u001b[38;5;28mself\u001b[39m\u001b[38;5;241m.\u001b[39m_pin_memory:\n\u001b[0;32m    723\u001b[0m         data \u001b[38;5;241m=\u001b[39m _utils\u001b[38;5;241m.\u001b[39mpin_memory\u001b[38;5;241m.\u001b[39mpin_memory(data, \u001b[38;5;28mself\u001b[39m\u001b[38;5;241m.\u001b[39m_pin_memory_device)\n",
            "File \u001b[1;32md:\\Users\\GEOMETREX\\anaconda3\\envs\\pytorch\\lib\\site-packages\\torch\\utils\\data\\_utils\\fetch.py:49\u001b[0m, in \u001b[0;36m_MapDatasetFetcher.fetch\u001b[1;34m(self, possibly_batched_index)\u001b[0m\n\u001b[0;32m     47\u001b[0m \u001b[38;5;28;01mdef\u001b[39;00m \u001b[38;5;21mfetch\u001b[39m(\u001b[38;5;28mself\u001b[39m, possibly_batched_index):\n\u001b[0;32m     48\u001b[0m     \u001b[38;5;28;01mif\u001b[39;00m \u001b[38;5;28mself\u001b[39m\u001b[38;5;241m.\u001b[39mauto_collation:\n\u001b[1;32m---> 49\u001b[0m         data \u001b[38;5;241m=\u001b[39m [\u001b[38;5;28mself\u001b[39m\u001b[38;5;241m.\u001b[39mdataset[idx] \u001b[38;5;28;01mfor\u001b[39;00m idx \u001b[38;5;129;01min\u001b[39;00m possibly_batched_index]\n\u001b[0;32m     50\u001b[0m     \u001b[38;5;28;01melse\u001b[39;00m:\n\u001b[0;32m     51\u001b[0m         data \u001b[38;5;241m=\u001b[39m \u001b[38;5;28mself\u001b[39m\u001b[38;5;241m.\u001b[39mdataset[possibly_batched_index]\n",
            "File \u001b[1;32md:\\Users\\GEOMETREX\\anaconda3\\envs\\pytorch\\lib\\site-packages\\torch\\utils\\data\\_utils\\fetch.py:49\u001b[0m, in \u001b[0;36m<listcomp>\u001b[1;34m(.0)\u001b[0m\n\u001b[0;32m     47\u001b[0m \u001b[38;5;28;01mdef\u001b[39;00m \u001b[38;5;21mfetch\u001b[39m(\u001b[38;5;28mself\u001b[39m, possibly_batched_index):\n\u001b[0;32m     48\u001b[0m     \u001b[38;5;28;01mif\u001b[39;00m \u001b[38;5;28mself\u001b[39m\u001b[38;5;241m.\u001b[39mauto_collation:\n\u001b[1;32m---> 49\u001b[0m         data \u001b[38;5;241m=\u001b[39m [\u001b[38;5;28;43mself\u001b[39;49m\u001b[38;5;241;43m.\u001b[39;49m\u001b[43mdataset\u001b[49m\u001b[43m[\u001b[49m\u001b[43midx\u001b[49m\u001b[43m]\u001b[49m \u001b[38;5;28;01mfor\u001b[39;00m idx \u001b[38;5;129;01min\u001b[39;00m possibly_batched_index]\n\u001b[0;32m     50\u001b[0m     \u001b[38;5;28;01melse\u001b[39;00m:\n\u001b[0;32m     51\u001b[0m         data \u001b[38;5;241m=\u001b[39m \u001b[38;5;28mself\u001b[39m\u001b[38;5;241m.\u001b[39mdataset[possibly_batched_index]\n",
            "File \u001b[1;32md:\\Users\\GEOMETREX\\anaconda3\\envs\\pytorch\\lib\\site-packages\\torch\\utils\\data\\dataset.py:290\u001b[0m, in \u001b[0;36mSubset.__getitem__\u001b[1;34m(self, idx)\u001b[0m\n\u001b[0;32m    288\u001b[0m \u001b[38;5;28;01mif\u001b[39;00m \u001b[38;5;28misinstance\u001b[39m(idx, \u001b[38;5;28mlist\u001b[39m):\n\u001b[0;32m    289\u001b[0m     \u001b[38;5;28;01mreturn\u001b[39;00m \u001b[38;5;28mself\u001b[39m\u001b[38;5;241m.\u001b[39mdataset[[\u001b[38;5;28mself\u001b[39m\u001b[38;5;241m.\u001b[39mindices[i] \u001b[38;5;28;01mfor\u001b[39;00m i \u001b[38;5;129;01min\u001b[39;00m idx]]\n\u001b[1;32m--> 290\u001b[0m \u001b[38;5;28;01mreturn\u001b[39;00m \u001b[38;5;28;43mself\u001b[39;49m\u001b[38;5;241;43m.\u001b[39;49m\u001b[43mdataset\u001b[49m\u001b[43m[\u001b[49m\u001b[38;5;28;43mself\u001b[39;49m\u001b[38;5;241;43m.\u001b[39;49m\u001b[43mindices\u001b[49m\u001b[43m[\u001b[49m\u001b[43midx\u001b[49m\u001b[43m]\u001b[49m\u001b[43m]\u001b[49m\n",
            "File \u001b[1;32md:\\Users\\GEOMETREX\\anaconda3\\envs\\pytorch\\lib\\site-packages\\torchvision\\datasets\\mnist.py:145\u001b[0m, in \u001b[0;36mMNIST.__getitem__\u001b[1;34m(self, index)\u001b[0m\n\u001b[0;32m    142\u001b[0m img \u001b[38;5;241m=\u001b[39m Image\u001b[38;5;241m.\u001b[39mfromarray(img\u001b[38;5;241m.\u001b[39mnumpy(), mode\u001b[38;5;241m=\u001b[39m\u001b[38;5;124m\"\u001b[39m\u001b[38;5;124mL\u001b[39m\u001b[38;5;124m\"\u001b[39m)\n\u001b[0;32m    144\u001b[0m \u001b[38;5;28;01mif\u001b[39;00m \u001b[38;5;28mself\u001b[39m\u001b[38;5;241m.\u001b[39mtransform \u001b[38;5;129;01mis\u001b[39;00m \u001b[38;5;129;01mnot\u001b[39;00m \u001b[38;5;28;01mNone\u001b[39;00m:\n\u001b[1;32m--> 145\u001b[0m     img \u001b[38;5;241m=\u001b[39m \u001b[38;5;28;43mself\u001b[39;49m\u001b[38;5;241;43m.\u001b[39;49m\u001b[43mtransform\u001b[49m\u001b[43m(\u001b[49m\u001b[43mimg\u001b[49m\u001b[43m)\u001b[49m\n\u001b[0;32m    147\u001b[0m \u001b[38;5;28;01mif\u001b[39;00m \u001b[38;5;28mself\u001b[39m\u001b[38;5;241m.\u001b[39mtarget_transform \u001b[38;5;129;01mis\u001b[39;00m \u001b[38;5;129;01mnot\u001b[39;00m \u001b[38;5;28;01mNone\u001b[39;00m:\n\u001b[0;32m    148\u001b[0m     target \u001b[38;5;241m=\u001b[39m \u001b[38;5;28mself\u001b[39m\u001b[38;5;241m.\u001b[39mtarget_transform(target)\n",
            "File \u001b[1;32md:\\Users\\GEOMETREX\\anaconda3\\envs\\pytorch\\lib\\site-packages\\torchvision\\transforms\\transforms.py:94\u001b[0m, in \u001b[0;36mCompose.__call__\u001b[1;34m(self, img)\u001b[0m\n\u001b[0;32m     92\u001b[0m \u001b[38;5;28;01mdef\u001b[39;00m \u001b[38;5;21m__call__\u001b[39m(\u001b[38;5;28mself\u001b[39m, img):\n\u001b[0;32m     93\u001b[0m     \u001b[38;5;28;01mfor\u001b[39;00m t \u001b[38;5;129;01min\u001b[39;00m \u001b[38;5;28mself\u001b[39m\u001b[38;5;241m.\u001b[39mtransforms:\n\u001b[1;32m---> 94\u001b[0m         img \u001b[38;5;241m=\u001b[39m \u001b[43mt\u001b[49m\u001b[43m(\u001b[49m\u001b[43mimg\u001b[49m\u001b[43m)\u001b[49m\n\u001b[0;32m     95\u001b[0m     \u001b[38;5;28;01mreturn\u001b[39;00m img\n",
            "File \u001b[1;32md:\\Users\\GEOMETREX\\anaconda3\\envs\\pytorch\\lib\\site-packages\\torchvision\\transforms\\transforms.py:134\u001b[0m, in \u001b[0;36mToTensor.__call__\u001b[1;34m(self, pic)\u001b[0m\n\u001b[0;32m    126\u001b[0m \u001b[38;5;28;01mdef\u001b[39;00m \u001b[38;5;21m__call__\u001b[39m(\u001b[38;5;28mself\u001b[39m, pic):\n\u001b[0;32m    127\u001b[0m \u001b[38;5;250m    \u001b[39m\u001b[38;5;124;03m\"\"\"\u001b[39;00m\n\u001b[0;32m    128\u001b[0m \u001b[38;5;124;03m    Args:\u001b[39;00m\n\u001b[0;32m    129\u001b[0m \u001b[38;5;124;03m        pic (PIL Image or numpy.ndarray): Image to be converted to tensor.\u001b[39;00m\n\u001b[1;32m   (...)\u001b[0m\n\u001b[0;32m    132\u001b[0m \u001b[38;5;124;03m        Tensor: Converted image.\u001b[39;00m\n\u001b[0;32m    133\u001b[0m \u001b[38;5;124;03m    \"\"\"\u001b[39;00m\n\u001b[1;32m--> 134\u001b[0m     \u001b[38;5;28;01mreturn\u001b[39;00m \u001b[43mF\u001b[49m\u001b[38;5;241;43m.\u001b[39;49m\u001b[43mto_tensor\u001b[49m\u001b[43m(\u001b[49m\u001b[43mpic\u001b[49m\u001b[43m)\u001b[49m\n",
            "File \u001b[1;32md:\\Users\\GEOMETREX\\anaconda3\\envs\\pytorch\\lib\\site-packages\\torchvision\\transforms\\functional.py:172\u001b[0m, in \u001b[0;36mto_tensor\u001b[1;34m(pic)\u001b[0m\n\u001b[0;32m    170\u001b[0m img \u001b[38;5;241m=\u001b[39m img\u001b[38;5;241m.\u001b[39mpermute((\u001b[38;5;241m2\u001b[39m, \u001b[38;5;241m0\u001b[39m, \u001b[38;5;241m1\u001b[39m))\u001b[38;5;241m.\u001b[39mcontiguous()\n\u001b[0;32m    171\u001b[0m \u001b[38;5;28;01mif\u001b[39;00m \u001b[38;5;28misinstance\u001b[39m(img, torch\u001b[38;5;241m.\u001b[39mByteTensor):\n\u001b[1;32m--> 172\u001b[0m     \u001b[38;5;28;01mreturn\u001b[39;00m \u001b[43mimg\u001b[49m\u001b[38;5;241;43m.\u001b[39;49m\u001b[43mto\u001b[49m\u001b[43m(\u001b[49m\u001b[43mdtype\u001b[49m\u001b[38;5;241;43m=\u001b[39;49m\u001b[43mdefault_float_dtype\u001b[49m\u001b[43m)\u001b[49m\u001b[38;5;241;43m.\u001b[39;49m\u001b[43mdiv\u001b[49m\u001b[43m(\u001b[49m\u001b[38;5;241;43m255\u001b[39;49m\u001b[43m)\u001b[49m\n\u001b[0;32m    173\u001b[0m \u001b[38;5;28;01melse\u001b[39;00m:\n\u001b[0;32m    174\u001b[0m     \u001b[38;5;28;01mreturn\u001b[39;00m img\n",
            "\u001b[1;31mKeyboardInterrupt\u001b[0m: "
          ]
        }
      ],
      "source": [
        "from tqdm import tqdm\n",
        "\n",
        "# Training loop\n",
        "for epoch in range(num_epochs):\n",
        "    # Training phase\n",
        "    autoencoder.train()\n",
        "    running_train_loss = 0.0\n",
        "    running_train_psnr = 0.0\n",
        "    running_train_ssim = 0.0\n",
        "    for images, _ in tqdm(train_loader):\n",
        "        images = images.to(device)\n",
        "        optimizer.zero_grad()\n",
        "        outputs = autoencoder(images)\n",
        "        loss = loss_fn(outputs, images)  # MSE loss\n",
        "        loss.backward()\n",
        "        optimizer.step()\n",
        "\n",
        "        running_train_loss += loss.item()\n",
        "        running_train_psnr += psnr(images, outputs).item()  # Compute PSNR\n",
        "        running_train_ssim += compute_ssim(images, outputs)  # Compute SSIM\n",
        "\n",
        "    avg_train_loss = running_train_loss / len(train_loader)\n",
        "    avg_train_psnr = running_train_psnr / len(train_loader)\n",
        "    avg_train_ssim = running_train_ssim / len(train_loader)\n",
        "\n",
        "    # Validation phase\n",
        "    autoencoder.eval()\n",
        "    running_val_loss = 0.0\n",
        "    running_val_psnr = 0.0\n",
        "    running_val_ssim = 0.0\n",
        "    with torch.no_grad():\n",
        "        for images, _ in val_loader:\n",
        "            images = images.to(device)\n",
        "            outputs = autoencoder(images)\n",
        "            loss = loss_fn(outputs, images)  # MSE loss\n",
        "            running_val_loss += loss.item()\n",
        "            running_val_psnr += psnr(images, outputs).item()  # Compute PSNR\n",
        "            running_val_ssim += compute_ssim(images, outputs)  # Compute SSIM\n",
        "\n",
        "    avg_val_loss = running_val_loss / len(val_loader)\n",
        "    avg_val_psnr = running_val_psnr / len(val_loader)\n",
        "    avg_val_ssim = running_val_ssim / len(val_loader)\n",
        "\n",
        "    # Print the losses, PSNR, and SSIM for this epoch\n",
        "    print(f\"Epoch {epoch+1}/{num_epochs} - \"\n",
        "          f\"Train Loss: {avg_train_loss:.4f}, \"\n",
        "          f\"Train PSNR: {avg_train_psnr:.4f}, \"\n",
        "          f\"Train SSIM: {avg_train_ssim:.4f}, \"\n",
        "          f\"Val Loss: {avg_val_loss:.4f}, \"\n",
        "          f\"Val PSNR: {avg_val_psnr:.4f}, \"\n",
        "          f\"Val SSIM: {avg_val_ssim:.4f}\")\n",
        "\n",
        "    # Save the model if the validation loss improves\n",
        "    if avg_val_loss < best_val_loss:\n",
        "        best_val_loss = avg_val_loss\n",
        "        torch.save(autoencoder.state_dict(), best_checkpoint)  # Save the best model\n",
        "        print(f\"Model saved with validation loss: {avg_val_loss:.4f}\")"
      ]
    },
    {
      "cell_type": "markdown",
      "metadata": {
        "id": "goNuhbC-Mra-"
      },
      "source": [
        "## Evaluating the Model\n",
        "\n",
        "After training, we evaluate the model's performance by calculating the test loss (MSE) and PSNR (Peak Signal-to-Noise Ratio).\n",
        "\n",
        "MSE (Mean Squared Error) measures the average squared differences between the original and reconstructed images. A lower MSE indicates better reconstruction accuracy.\n",
        "\n",
        "PSNR (Peak Signal-to-Noise Ratio) is commonly used to assess the quality of image reconstruction. It measures the ratio between the maximum possible power of an image and the noise power. Higher PSNR values indicate better perceptual image quality.\n",
        "\n",
        "Both metrics are computed on the test set, giving us insights into the model's reconstruction accuracy (through MSE) and the perceptual quality of the output (through PSNR)."
      ]
    },
    {
      "cell_type": "code",
      "execution_count": 7,
      "metadata": {
        "colab": {
          "base_uri": "https://localhost:8080/"
        },
        "id": "A3k2ZW3JMrWR",
        "outputId": "2c14facd-7b17-4f3d-d213-09d8c1c005b9"
      },
      "outputs": [
        {
          "name": "stdout",
          "output_type": "stream",
          "text": [
            "Test Loss (MSE): 0.0541\n",
            "Overall PSNR: 12.8837\n",
            "Overall SSIM: 0.4211\n"
          ]
        }
      ],
      "source": [
        "# Load the best checkpoint\n",
        "autoencoder.load_state_dict(torch.load(best_checkpoint))\n",
        "\n",
        "# Set model to evaluation mode\n",
        "autoencoder.eval()\n",
        "\n",
        "# Initialize variables to store the results\n",
        "test_loss = 0.0\n",
        "running_psnr = 0.0\n",
        "running_ssim = 0.0\n",
        "\n",
        "# Evaluate the model on the test dataset (use test_loader here)\n",
        "with torch.no_grad():\n",
        "    for images, _ in test_loader:\n",
        "        images = images.to(device)\n",
        "        # Forward pass\n",
        "        outputs = autoencoder(images)\n",
        "\n",
        "        # Compute MSE loss\n",
        "        loss = nn.MSELoss()(outputs, images)\n",
        "        test_loss += loss.item()\n",
        "\n",
        "        # Compute PSNR (Peak Signal-to-Noise Ratio)\n",
        "        psnr_value = psnr(images, outputs).item()  # Using the psnr function defined earlier\n",
        "        running_psnr += psnr_value\n",
        "\n",
        "        # Compute SSIM (Structural Similarity Index)\n",
        "        ssim_value = compute_ssim(images, outputs)  # Using the compute_ssim function defined earlier\n",
        "        running_ssim += ssim_value\n",
        "\n",
        "# Average test loss, PSNR, and SSIM\n",
        "avg_test_loss = test_loss / len(test_loader)\n",
        "avg_psnr = running_psnr / len(test_loader)\n",
        "avg_ssim = running_ssim / len(test_loader)\n",
        "\n",
        "# Print the evaluation metrics\n",
        "print(f\"Test Loss (MSE): {avg_test_loss:.4f}\")\n",
        "print(f\"Overall PSNR: {avg_psnr:.4f}\")\n",
        "print(f\"Overall SSIM: {avg_ssim:.4f}\")"
      ]
    },
    {
      "cell_type": "markdown",
      "metadata": {
        "id": "J8njNGueM2Un"
      },
      "source": [
        "## Visualizing Results\n",
        "\n",
        "To assess the performance of the autoencoder visually, we display some original images alongside their reconstructions. This allows us to compare the effectiveness of the model in compressing and decompressing the images.\n",
        "\n",
        "Additionally, we compute the PSNR (Peak Signal-to-Noise Ratio) for each image pair (original and reconstructed), which quantifies the quality of the reconstruction. A higher PSNR value typically indicates better quality in terms of image fidelity."
      ]
    },
    {
      "cell_type": "code",
      "execution_count": 8,
      "metadata": {
        "id": "ZkQrAaKfM2aH"
      },
      "outputs": [],
      "source": [
        "# PSNR Function (Peak Signal to Noise Ratio)\n",
        "def psnr(y_true, y_pred, max_val=1.0):\n",
        "    # Ensure images are float type\n",
        "    y_true = y_true.to(torch.float32)\n",
        "    y_pred = y_pred.to(torch.float32)\n",
        "\n",
        "    # Compute MSE (Mean Squared Error) for each image in the batch\n",
        "    mse = torch.mean((y_true - y_pred) ** 2, dim=(1, 2, 3))  # Compute MSE over (height, width, channels)\n",
        "\n",
        "    # Calculate PSNR for each image\n",
        "    psnr = 20 * torch.log10(torch.tensor(max_val)) - 10 * torch.log10(mse)\n",
        "\n",
        "    # Return the mean PSNR over the batch\n",
        "    return torch.mean(psnr)\n",
        "\n",
        "# Function to display original and reconstructed images along with PSNR\n",
        "def display_results(original, reconstructed, num_images=5):\n",
        "    # Convert tensors to NumPy arrays for visualization\n",
        "    original = original.detach().cpu().numpy()\n",
        "    reconstructed = reconstructed.detach().cpu().numpy()\n",
        "\n",
        "    plt.figure(figsize=(15, 6))  # Adjusting figure size to accommodate all subplots\n",
        "    for i in range(num_images):\n",
        "        # Original Image\n",
        "        plt.subplot(2, num_images, i+1)\n",
        "        plt.imshow(np.transpose(original[i], (1, 2, 0)))  # Reorder dimensions for displaying (C, H, W) -> (H, W, C)\n",
        "        plt.title(\"Original\")\n",
        "        plt.axis('off')\n",
        "\n",
        "        # Reconstructed Image with PSNR displayed beside it\n",
        "        plt.subplot(2, num_images, i+num_images+1)\n",
        "        plt.imshow(np.transpose(reconstructed[i], (1, 2, 0)))  # Reorder dimensions for displaying (C, H, W) -> (H, W, C)\n",
        "\n",
        "        # Compute PSNR\n",
        "        psnr_value = psnr(torch.tensor(original[i]).unsqueeze(0), torch.tensor(reconstructed[i]).unsqueeze(0))\n",
        "        plt.title(f\"Reconstructed\\nPSNR: {psnr_value:.2f} dB\")\n",
        "        plt.axis('off')\n",
        "\n",
        "    plt.tight_layout()\n",
        "    plt.show()"
      ]
    },
    {
      "cell_type": "code",
      "execution_count": 9,
      "metadata": {
        "colab": {
          "base_uri": "https://localhost:8080/",
          "height": 444
        },
        "id": "_uuSqpJlGelR",
        "outputId": "48cce191-f8a3-4a6e-a7e5-b97074b8b360"
      },
      "outputs": [
        {
          "data": {
            "image/png": "[encoded data removed]",
            "text/plain": [
              "<Figure size 1500x600 with 10 Axes>"
            ]
          },
          "metadata": {},
          "output_type": "display_data"
        }
      ],
      "source": [
        "# Set the model to evaluation mode\n",
        "autoencoder.eval()\n",
        "\n",
        "# Get predictions for the test set\n",
        "reconstructed_images = []\n",
        "original_images = []\n",
        "with torch.no_grad():\n",
        "    for images, _ in test_loader:  # Assuming test_loader is defined\n",
        "        images = images.to(device)\n",
        "        outputs = autoencoder(images)\n",
        "        reconstructed_images.append(outputs)\n",
        "        original_images.append(images)\n",
        "\n",
        "# Concatenate the batches\n",
        "reconstructed_images = torch.cat(reconstructed_images)\n",
        "original_images = torch.cat(original_images)\n",
        "\n",
        "# Display images before and after reconstruction with PSNR values\n",
        "display_results(original_images, reconstructed_images)"
      ]
    },
    {
      "cell_type": "markdown",
      "metadata": {
        "id": "D86Fdr1eSp8N"
      },
      "source": [
        "# Part II\n",
        "\n",
        "Building the CNN Autoencoder Model\n",
        "In this section, we will define a Convolutional Neural Network (CNN) Autoencoder using PyTorch. An autoencoder is a type of neural network used to learn efficient representations (encodings) of data, typically for dimensionality reduction or denoising tasks. The CNN Autoencoder consists of two main components: the encoder and the decoder.\n",
        "\n",
        "- Encoder: This part of the network takes an input image, applies convolutional layers, and reduces the spatial dimensions through pooling operations to extract relevant features.\n",
        "\n",
        "- Decoder: The decoder takes the encoded features and reconstructs the input image by upsampling through transposed convolutional layers.\n",
        "The encoder and decoder are designed using PyTorch's nn.Module to build a flexible and modular neural network."
      ]
    },
    {
      "cell_type": "code",
      "execution_count": 10,
      "metadata": {
        "colab": {
          "base_uri": "https://localhost:8080/"
        },
        "id": "_vwsviJjSuzb",
        "outputId": "afe958dd-1b87-47df-f8af-11b81f44c672"
      },
      "outputs": [
        {
          "name": "stdout",
          "output_type": "stream",
          "text": [
            "----------------------------------------------------------------\n",
            "        Layer (type)               Output Shape         Param #\n",
            "================================================================\n",
            "            Conv2d-1           [-1, 32, 32, 32]             896\n",
            "              ReLU-2           [-1, 32, 32, 32]               0\n",
            "         MaxPool2d-3           [-1, 32, 16, 16]               0\n",
            "            Conv2d-4           [-1, 64, 16, 16]          18,496\n",
            "              ReLU-5           [-1, 64, 16, 16]               0\n",
            "         MaxPool2d-6             [-1, 64, 8, 8]               0\n",
            "   ConvTranspose2d-7           [-1, 32, 16, 16]          18,464\n",
            "              ReLU-8           [-1, 32, 16, 16]               0\n",
            "   ConvTranspose2d-9            [-1, 3, 32, 32]             867\n",
            "          Sigmoid-10            [-1, 3, 32, 32]               0\n",
            "================================================================\n",
            "Total params: 38,723\n",
            "Trainable params: 38,723\n",
            "Non-trainable params: 0\n",
            "----------------------------------------------------------------\n",
            "Input size (MB): 0.01\n",
            "Forward/backward pass size (MB): 1.02\n",
            "Params size (MB): 0.15\n",
            "Estimated Total Size (MB): 1.18\n",
            "----------------------------------------------------------------\n"
          ]
        }
      ],
      "source": [
        "class CNN_Autoencoder(nn.Module):\n",
        "    def __init__(self):\n",
        "        super(CNN_Autoencoder, self).__init__()\n",
        "\n",
        "        # Encoder\n",
        "        self.encoder = nn.Sequential(\n",
        "            nn.Conv2d(3, 32, kernel_size=3, stride=1, padding=1),  # 32x32x1 -> 32x32x32\n",
        "            nn.ReLU(),\n",
        "            nn.MaxPool2d(kernel_size=2, stride=2, padding=0),  # 32x32x32 -> 16x16x32\n",
        "\n",
        "            nn.Conv2d(32, 64, kernel_size=3, stride=1, padding=1),  # 16x16x32 -> 16x16x64\n",
        "            nn.ReLU(),\n",
        "            nn.MaxPool2d(kernel_size=2, stride=2, padding=0)   # 16x16x64 -> 8x8x64\n",
        "        )\n",
        "\n",
        "        # Decoder\n",
        "        self.decoder = nn.Sequential(\n",
        "            nn.ConvTranspose2d(64, 32, kernel_size=3, stride=2, padding=1, output_padding=1),  # 8x8x64 -> 16x16x32\n",
        "            nn.ReLU(),\n",
        "\n",
        "            nn.ConvTranspose2d(32, 3, kernel_size=3, stride=2, padding=1, output_padding=1),  # 16x16x32 -> 32x32x1\n",
        "            nn.Sigmoid()  # Sigmoid activation to output pixel values between 0 and 1\n",
        "        )\n",
        "\n",
        "    def forward(self, x):\n",
        "        x = self.encoder(x)\n",
        "        x = self.decoder(x)\n",
        "        return x\n",
        "\n",
        "# Instantiate the model\n",
        "autoencoder = CNN_Autoencoder().to(device)\n",
        "\n",
        "summary(autoencoder, input_size=(3, 32, 32))  # For input size of 3x32x32"
      ]
    },
    {
      "cell_type": "markdown",
      "metadata": {
        "id": "f0uzIA0kED9N"
      },
      "source": [
        "# Model Compiling\n",
        "\n",
        "In this step, we define how the model will learn during training by specifying the optimizer, loss function, the hyper-parameters and metrics."
      ]
    },
    {
      "cell_type": "code",
      "execution_count": 11,
      "metadata": {
        "id": "doqd9uHmD3Va"
      },
      "outputs": [],
      "source": [
        "# Hyperparameters\n",
        "num_epochs = 20  # Number of epochs\n",
        "batch_size = 64  # Batch size for the DataLoader\n",
        "learning_rate = 1e-4  # Learning rate for the optimizer\n",
        "best_checkpoint = './saved_models/cnn_ae_best.pth'  # Path to save the best model\n",
        "\n",
        "# Create the directory if it doesn't exist\n",
        "os.makedirs(os.path.dirname(best_checkpoint), exist_ok=True)\n",
        "\n",
        "# Loss function (MSE)\n",
        "loss_fn = nn.MSELoss()\n",
        "\n",
        "# Define the optimizer (Adam)\n",
        "optimizer = optim.Adam(autoencoder.parameters(), lr=learning_rate)\n",
        "\n",
        "# Set up the best validation loss tracking\n",
        "best_val_loss = float('inf')"
      ]
    },
    {
      "cell_type": "markdown",
      "metadata": {
        "id": "HgzDdhLyS2pL"
      },
      "source": [
        "Training the CNN Autoencoder"
      ]
    },
    {
      "cell_type": "code",
      "execution_count": 12,
      "metadata": {
        "colab": {
          "base_uri": "https://localhost:8080/"
        },
        "id": "ACkHmJtaS8vL",
        "outputId": "d4d7fa4e-8eaa-47a5-ff95-5afc0e429853"
      },
      "outputs": [
        {
          "name": "stderr",
          "output_type": "stream",
          "text": [
            "  0%|          | 0/188 [00:00<?, ?it/s]"
          ]
        },
        {
          "name": "stderr",
          "output_type": "stream",
          "text": [
            "100%|██████████| 188/188 [00:50<00:00,  3.72it/s]\n"
          ]
        },
        {
          "name": "stdout",
          "output_type": "stream",
          "text": [
            "Epoch 1/20 - Train Loss: 0.1437, Train PSNR: 8.6848, Train SSIM: 0.0189, Val Loss: 0.0622, Val PSNR: 12.1143, Val SSIM: 0.0737\n",
            "Model saved with validation loss: 0.0622\n"
          ]
        },
        {
          "name": "stderr",
          "output_type": "stream",
          "text": [
            "100%|██████████| 188/188 [00:47<00:00,  3.96it/s]\n"
          ]
        },
        {
          "name": "stdout",
          "output_type": "stream",
          "text": [
            "Epoch 2/20 - Train Loss: 0.0341, Train PSNR: 15.0193, Train SSIM: 0.1715, Val Loss: 0.0193, Val PSNR: 17.3110, Val SSIM: 0.2953\n",
            "Model saved with validation loss: 0.0193\n"
          ]
        },
        {
          "name": "stderr",
          "output_type": "stream",
          "text": [
            "  2%|▏         | 3/188 [00:01<01:09,  2.65it/s]\n"
          ]
        },
        {
          "ename": "KeyboardInterrupt",
          "evalue": "",
          "output_type": "error",
          "traceback": [
            "\u001b[1;31m---------------------------------------------------------------------------\u001b[0m",
            "\u001b[1;31mKeyboardInterrupt\u001b[0m                         Traceback (most recent call last)",
            "Cell \u001b[1;32mIn[12], line 15\u001b[0m\n\u001b[0;32m     13\u001b[0m outputs \u001b[38;5;241m=\u001b[39m autoencoder(images)\n\u001b[0;32m     14\u001b[0m loss \u001b[38;5;241m=\u001b[39m loss_fn(outputs, images)  \u001b[38;5;66;03m# MSE loss\u001b[39;00m\n\u001b[1;32m---> 15\u001b[0m \u001b[43mloss\u001b[49m\u001b[38;5;241;43m.\u001b[39;49m\u001b[43mbackward\u001b[49m\u001b[43m(\u001b[49m\u001b[43m)\u001b[49m\n\u001b[0;32m     16\u001b[0m optimizer\u001b[38;5;241m.\u001b[39mstep()\n\u001b[0;32m     18\u001b[0m running_train_loss \u001b[38;5;241m+\u001b[39m\u001b[38;5;241m=\u001b[39m loss\u001b[38;5;241m.\u001b[39mitem()\n",
            "File \u001b[1;32md:\\Users\\GEOMETREX\\anaconda3\\envs\\pytorch\\lib\\site-packages\\torch\\_tensor.py:396\u001b[0m, in \u001b[0;36mTensor.backward\u001b[1;34m(self, gradient, retain_graph, create_graph, inputs)\u001b[0m\n\u001b[0;32m    387\u001b[0m \u001b[38;5;28;01mif\u001b[39;00m has_torch_function_unary(\u001b[38;5;28mself\u001b[39m):\n\u001b[0;32m    388\u001b[0m     \u001b[38;5;28;01mreturn\u001b[39;00m handle_torch_function(\n\u001b[0;32m    389\u001b[0m         Tensor\u001b[38;5;241m.\u001b[39mbackward,\n\u001b[0;32m    390\u001b[0m         (\u001b[38;5;28mself\u001b[39m,),\n\u001b[1;32m   (...)\u001b[0m\n\u001b[0;32m    394\u001b[0m         create_graph\u001b[38;5;241m=\u001b[39mcreate_graph,\n\u001b[0;32m    395\u001b[0m         inputs\u001b[38;5;241m=\u001b[39minputs)\n\u001b[1;32m--> 396\u001b[0m \u001b[43mtorch\u001b[49m\u001b[38;5;241;43m.\u001b[39;49m\u001b[43mautograd\u001b[49m\u001b[38;5;241;43m.\u001b[39;49m\u001b[43mbackward\u001b[49m\u001b[43m(\u001b[49m\u001b[38;5;28;43mself\u001b[39;49m\u001b[43m,\u001b[49m\u001b[43m \u001b[49m\u001b[43mgradient\u001b[49m\u001b[43m,\u001b[49m\u001b[43m \u001b[49m\u001b[43mretain_graph\u001b[49m\u001b[43m,\u001b[49m\u001b[43m \u001b[49m\u001b[43mcreate_graph\u001b[49m\u001b[43m,\u001b[49m\u001b[43m \u001b[49m\u001b[43minputs\u001b[49m\u001b[38;5;241;43m=\u001b[39;49m\u001b[43minputs\u001b[49m\u001b[43m)\u001b[49m\n",
            "File \u001b[1;32md:\\Users\\GEOMETREX\\anaconda3\\envs\\pytorch\\lib\\site-packages\\torch\\autograd\\__init__.py:173\u001b[0m, in \u001b[0;36mbackward\u001b[1;34m(tensors, grad_tensors, retain_graph, create_graph, grad_variables, inputs)\u001b[0m\n\u001b[0;32m    168\u001b[0m     retain_graph \u001b[38;5;241m=\u001b[39m create_graph\n\u001b[0;32m    170\u001b[0m \u001b[38;5;66;03m# The reason we repeat same the comment below is that\u001b[39;00m\n\u001b[0;32m    171\u001b[0m \u001b[38;5;66;03m# some Python versions print out the first line of a multi-line function\u001b[39;00m\n\u001b[0;32m    172\u001b[0m \u001b[38;5;66;03m# calls in the traceback and some print out the last line\u001b[39;00m\n\u001b[1;32m--> 173\u001b[0m \u001b[43mVariable\u001b[49m\u001b[38;5;241;43m.\u001b[39;49m\u001b[43m_execution_engine\u001b[49m\u001b[38;5;241;43m.\u001b[39;49m\u001b[43mrun_backward\u001b[49m\u001b[43m(\u001b[49m\u001b[43m  \u001b[49m\u001b[38;5;66;43;03m# Calls into the C++ engine to run the backward pass\u001b[39;49;00m\n\u001b[0;32m    174\u001b[0m \u001b[43m    \u001b[49m\u001b[43mtensors\u001b[49m\u001b[43m,\u001b[49m\u001b[43m \u001b[49m\u001b[43mgrad_tensors_\u001b[49m\u001b[43m,\u001b[49m\u001b[43m \u001b[49m\u001b[43mretain_graph\u001b[49m\u001b[43m,\u001b[49m\u001b[43m \u001b[49m\u001b[43mcreate_graph\u001b[49m\u001b[43m,\u001b[49m\u001b[43m \u001b[49m\u001b[43minputs\u001b[49m\u001b[43m,\u001b[49m\n\u001b[0;32m    175\u001b[0m \u001b[43m    \u001b[49m\u001b[43mallow_unreachable\u001b[49m\u001b[38;5;241;43m=\u001b[39;49m\u001b[38;5;28;43;01mTrue\u001b[39;49;00m\u001b[43m,\u001b[49m\u001b[43m \u001b[49m\u001b[43maccumulate_grad\u001b[49m\u001b[38;5;241;43m=\u001b[39;49m\u001b[38;5;28;43;01mTrue\u001b[39;49;00m\u001b[43m)\u001b[49m\n",
            "\u001b[1;31mKeyboardInterrupt\u001b[0m: "
          ]
        }
      ],
      "source": [
        "from tqdm import tqdm\n",
        "\n",
        "# Training loop\n",
        "for epoch in range(num_epochs):\n",
        "    # Training phase\n",
        "    autoencoder.train()\n",
        "    running_train_loss = 0.0\n",
        "    running_train_psnr = 0.0\n",
        "    running_train_ssim = 0.0\n",
        "    for images, _ in tqdm(train_loader):\n",
        "        images = images.to(device)\n",
        "        optimizer.zero_grad()\n",
        "        outputs = autoencoder(images)\n",
        "        loss = loss_fn(outputs, images)  # MSE loss\n",
        "        loss.backward()\n",
        "        optimizer.step()\n",
        "\n",
        "        running_train_loss += loss.item()\n",
        "        running_train_psnr += psnr(images, outputs).item()  # Compute PSNR\n",
        "        running_train_ssim += compute_ssim(images, outputs)  # Compute SSIM\n",
        "\n",
        "    avg_train_loss = running_train_loss / len(train_loader)\n",
        "    avg_train_psnr = running_train_psnr / len(train_loader)\n",
        "    avg_train_ssim = running_train_ssim / len(train_loader)\n",
        "\n",
        "    # Validation phase\n",
        "    autoencoder.eval()\n",
        "    running_val_loss = 0.0\n",
        "    running_val_psnr = 0.0\n",
        "    running_val_ssim = 0.0\n",
        "    with torch.no_grad():\n",
        "        for images, _ in val_loader:\n",
        "            images = images.to(device)\n",
        "            outputs = autoencoder(images)\n",
        "            loss = loss_fn(outputs, images)  # MSE loss\n",
        "            running_val_loss += loss.item()\n",
        "            running_val_psnr += psnr(images, outputs).item()  # Compute PSNR\n",
        "            running_val_ssim += compute_ssim(images, outputs)  # Compute SSIM\n",
        "\n",
        "    avg_val_loss = running_val_loss / len(val_loader)\n",
        "    avg_val_psnr = running_val_psnr / len(val_loader)\n",
        "    avg_val_ssim = running_val_ssim / len(val_loader)\n",
        "\n",
        "    # Print the losses, PSNR, and SSIM for this epoch\n",
        "    print(f\"Epoch {epoch+1}/{num_epochs} - \"\n",
        "          f\"Train Loss: {avg_train_loss:.4f}, \"\n",
        "          f\"Train PSNR: {avg_train_psnr:.4f}, \"\n",
        "          f\"Train SSIM: {avg_train_ssim:.4f}, \"\n",
        "          f\"Val Loss: {avg_val_loss:.4f}, \"\n",
        "          f\"Val PSNR: {avg_val_psnr:.4f}, \"\n",
        "          f\"Val SSIM: {avg_val_ssim:.4f}\")\n",
        "\n",
        "    # Save the model if the validation loss improves\n",
        "    if avg_val_loss < best_val_loss:\n",
        "        best_val_loss = avg_val_loss\n",
        "        torch.save(autoencoder.state_dict(), best_checkpoint)  # Save the best model\n",
        "        print(f\"Model saved with validation loss: {avg_val_loss:.4f}\")"
      ]
    },
    {
      "cell_type": "markdown",
      "metadata": {
        "id": "7SIzCrb7Tcm7"
      },
      "source": [
        "# Evaluating the Model"
      ]
    },
    {
      "cell_type": "code",
      "execution_count": 13,
      "metadata": {
        "colab": {
          "base_uri": "https://localhost:8080/"
        },
        "id": "U4bRDiQsTV58",
        "outputId": "20f610af-78c2-47ad-daef-a768c717a380"
      },
      "outputs": [
        {
          "name": "stdout",
          "output_type": "stream",
          "text": [
            "Test Loss (MSE): 0.0193\n",
            "Overall PSNR: 17.3120\n",
            "Overall SSIM: 0.2963\n"
          ]
        }
      ],
      "source": [
        "# Load the best checkpoint\n",
        "autoencoder.load_state_dict(torch.load(best_checkpoint))\n",
        "\n",
        "# Set model to evaluation mode\n",
        "autoencoder.eval()\n",
        "\n",
        "# Initialize variables to store the results\n",
        "test_loss = 0.0\n",
        "running_psnr = 0.0\n",
        "running_ssim = 0.0\n",
        "\n",
        "# Evaluate the model on the test dataset (use test_loader here)\n",
        "with torch.no_grad():\n",
        "    for images, _ in test_loader:\n",
        "        images = images.to(device)\n",
        "        # Forward pass\n",
        "        outputs = autoencoder(images)\n",
        "\n",
        "        # Compute MSE loss\n",
        "        loss = nn.MSELoss()(outputs, images)\n",
        "        test_loss += loss.item()\n",
        "\n",
        "        # Compute PSNR (Peak Signal-to-Noise Ratio)\n",
        "        psnr_value = psnr(images, outputs).item()  # Using the psnr function defined earlier\n",
        "        running_psnr += psnr_value\n",
        "\n",
        "        # Compute SSIM (Structural Similarity Index)\n",
        "        ssim_value = compute_ssim(images, outputs)  # Using the compute_ssim function defined earlier\n",
        "        running_ssim += ssim_value\n",
        "\n",
        "# Average test loss, PSNR, and SSIM\n",
        "avg_test_loss = test_loss / len(test_loader)\n",
        "avg_psnr = running_psnr / len(test_loader)\n",
        "avg_ssim = running_ssim / len(test_loader)\n",
        "\n",
        "# Print the evaluation metrics\n",
        "print(f\"Test Loss (MSE): {avg_test_loss:.4f}\")\n",
        "print(f\"Overall PSNR: {avg_psnr:.4f}\")\n",
        "print(f\"Overall SSIM: {avg_ssim:.4f}\")\n"
      ]
    },
    {
      "cell_type": "markdown",
      "metadata": {
        "id": "VKHIt-q0TeLL"
      },
      "source": [
        "# Visualizing Results"
      ]
    },
    {
      "cell_type": "code",
      "execution_count": 14,
      "metadata": {
        "colab": {
          "base_uri": "https://localhost:8080/",
          "height": 444
        },
        "id": "Mt-bW2OVS1ij",
        "outputId": "fc2ca9a5-144d-49cf-9224-a087416621f5"
      },
      "outputs": [
        {
          "data": {
            "image/png": "[encoded data removed]",
            "text/plain": [
              "<Figure size 1500x600 with 10 Axes>"
            ]
          },
          "metadata": {},
          "output_type": "display_data"
        }
      ],
      "source": [
        "# Set the model to evaluation mode\n",
        "autoencoder.eval()\n",
        "\n",
        "# Get predictions for the test set\n",
        "reconstructed_images = []\n",
        "original_images = []\n",
        "with torch.no_grad():\n",
        "    for images, _ in test_loader:  # Assuming test_loader is defined\n",
        "        images = images.to(device)\n",
        "        outputs = autoencoder(images)\n",
        "        reconstructed_images.append(outputs)\n",
        "        original_images.append(images)\n",
        "\n",
        "# Concatenate the batches\n",
        "reconstructed_images = torch.cat(reconstructed_images)\n",
        "original_images = torch.cat(original_images)\n",
        "\n",
        "# Display images before and after reconstruction with PSNR values\n",
        "display_results(original_images, reconstructed_images)"
      ]
    },
    {
      "cell_type": "code",
      "execution_count": 17,
      "metadata": {
        "colab": {
          "base_uri": "https://localhost:8080/"
        },
        "id": "lU3gPe-UGlWT",
        "outputId": "a37bfe82-7562-4761-e689-efe503b4f601"
      },
      "outputs": [
        {
          "ename": "ModuleNotFoundError",
          "evalue": "No module named 'maths'",
          "output_type": "error",
          "traceback": [
            "\u001b[1;31m---------------------------------------------------------------------------\u001b[0m",
            "\u001b[1;31mModuleNotFoundError\u001b[0m                       Traceback (most recent call last)",
            "Cell \u001b[1;32mIn[17], line 1\u001b[0m\n\u001b[1;32m----> 1\u001b[0m \u001b[38;5;28;01mfrom\u001b[39;00m \u001b[38;5;21;01mmodel\u001b[39;00m \u001b[38;5;28;01mimport\u001b[39;00m Model\n\u001b[0;32m      2\u001b[0m checkpoint \u001b[38;5;241m=\u001b[39m \u001b[38;5;124m\"\u001b[39m\u001b[38;5;124m/home/bellelbn/DL/datapart/models/hific_hi.pt\u001b[39m\u001b[38;5;124m\"\u001b[39m\n\u001b[0;32m      4\u001b[0m image_dims \u001b[38;5;241m=\u001b[39m (\u001b[38;5;241m3\u001b[39m, \u001b[38;5;241m32\u001b[39m, \u001b[38;5;241m32\u001b[39m)\n",
            "File \u001b[1;32mc:\\Users\\GEOMETREX\\Desktop\\HIFIC_lab\\model.py:17\u001b[0m\n\u001b[0;32m     14\u001b[0m \u001b[38;5;28;01mfrom\u001b[39;00m \u001b[38;5;21;01mtorchvision\u001b[39;00m \u001b[38;5;28;01mimport\u001b[39;00m transforms\n\u001b[0;32m     16\u001b[0m \u001b[38;5;66;03m# Custom modules\u001b[39;00m\n\u001b[1;32m---> 17\u001b[0m \u001b[38;5;28;01mimport\u001b[39;00m \u001b[38;5;21;01mhyperprior\u001b[39;00m\n\u001b[0;32m     18\u001b[0m \u001b[38;5;28;01mimport\u001b[39;00m \u001b[38;5;21;01mlosses\u001b[39;00m\n\u001b[0;32m     19\u001b[0m \u001b[38;5;28;01mimport\u001b[39;00m \u001b[38;5;21;01mutils\u001b[39;00m\u001b[38;5;241m,\u001b[39m \u001b[38;5;21;01mmetrics\u001b[39;00m\n",
            "File \u001b[1;32mc:\\Users\\GEOMETREX\\Desktop\\HIFIC_lab\\hyperprior.py:9\u001b[0m\n\u001b[0;32m      7\u001b[0m \u001b[38;5;66;03m# Custom\u001b[39;00m\n\u001b[0;32m      8\u001b[0m \u001b[38;5;28;01mimport\u001b[39;00m \u001b[38;5;21;01mhyper\u001b[39;00m\n\u001b[1;32m----> 9\u001b[0m \u001b[38;5;28;01mimport\u001b[39;00m \u001b[38;5;21;01mmaths\u001b[39;00m\n\u001b[0;32m     10\u001b[0m \u001b[38;5;28;01mimport\u001b[39;00m \u001b[38;5;21;01mhyperprior_model\u001b[39;00m\u001b[38;5;241m,\u001b[39m \u001b[38;5;21;01mprior_model\u001b[39;00m\n\u001b[0;32m     12\u001b[0m MIN_SCALE \u001b[38;5;241m=\u001b[39m \u001b[38;5;241m0.11\u001b[39m\n",
            "\u001b[1;31mModuleNotFoundError\u001b[0m: No module named 'maths'"
          ]
        }
      ],
      "source": [
        "from model import Model\n",
        "checkpoint = \"path/to/hific/checkpoint.pt\"\n",
        "\n",
        "image_dims = (3, 32, 32)\n",
        "autoencoder = Model(image_dims=image_dims, checkpoint = checkpoint)\n",
        "autoencoder = autoencoder.to(device)"
      ]
    },
    {
      "cell_type": "code",
      "execution_count": null,
      "metadata": {},
      "outputs": [],
      "source": [
        "def eval_hific(args, model, test_loader, device):\n",
        "\n",
        "    test_loss = 0.0\n",
        "    running_psnr = 0.0\n",
        "    running_ssim = 0.0\n",
        "    \n",
        "    model.eval()\n",
        "\n",
        "    idx = 0\n",
        "    with torch.no_grad():\n",
        "        for idx, (data, labels) in enumerate(tqdm(test_loader, desc='Val'), 0):\n",
        "\n",
        "            data = data.to(device, dtype=torch.float)\n",
        "            reconstruction, loss, ssim_value, psnr_value = model(data)\n",
        "\n",
        "            test_loss += loss.item()\n",
        "            running_ssim += ssim_value.item()\n",
        "            running_psnr += psnr_value.item()\n",
        "\n",
        "    # Average test loss, PSNR, and SSIM\n",
        "    avg_test_loss = test_loss / len(test_loader)\n",
        "    avg_psnr = running_psnr / len(test_loader)\n",
        "    avg_ssim = running_ssim / len(test_loader)\n",
        "\n",
        "    # Print the evaluation metrics\n",
        "    print(f\"Test Loss (MSE): {avg_test_loss:.4f}\")\n",
        "    print(f\"Overall PSNR: {avg_psnr:.4f}\")\n",
        "    print(f\"Overall SSIM: {avg_ssim:.4f}\")"
      ]
    },
    {
      "cell_type": "code",
      "execution_count": null,
      "metadata": {},
      "outputs": [],
      "source": [
        "eval_hific(autoencoder, test_loader)"
      ]
    },
    {
      "cell_type": "code",
      "execution_count": null,
      "metadata": {
        "colab": {
          "base_uri": "https://localhost:8080/",
          "height": 477
        },
        "id": "akBWsv7STtjb",
        "outputId": "9afa3471-ffb6-465e-adcf-fc9fd182a012"
      },
      "outputs": [
        {
          "ename": "ModuleNotFoundError",
          "evalue": "No module named 'src'",
          "output_type": "error",
          "traceback": [
            "\u001b[0;31m---------------------------------------------------------------------------\u001b[0m",
            "\u001b[0;31mModuleNotFoundError\u001b[0m                       Traceback (most recent call last)",
            "\u001b[0;32m<ipython-input-10-12228767ab1e>\u001b[0m in \u001b[0;36m<cell line: 2>\u001b[0;34m()\u001b[0m\n\u001b[1;32m      1\u001b[0m \u001b[0;32mfrom\u001b[0m \u001b[0mautoencoder_lab\u001b[0m\u001b[0;34m.\u001b[0m\u001b[0mdefault_config\u001b[0m \u001b[0;32mimport\u001b[0m \u001b[0;34m*\u001b[0m\u001b[0;34m\u001b[0m\u001b[0;34m\u001b[0m\u001b[0m\n\u001b[0;32m----> 2\u001b[0;31m \u001b[0;32mfrom\u001b[0m \u001b[0mautoencoder_lab\u001b[0m\u001b[0;34m.\u001b[0m\u001b[0msrc\u001b[0m\u001b[0;34m.\u001b[0m\u001b[0mmodel\u001b[0m \u001b[0;32mimport\u001b[0m \u001b[0;34m*\u001b[0m\u001b[0;34m\u001b[0m\u001b[0;34m\u001b[0m\u001b[0m\n\u001b[0m",
            "\u001b[0;32m/content/autoencoder_lab/src/model.py\u001b[0m in \u001b[0;36m<module>\u001b[0;34m\u001b[0m\n\u001b[1;32m     15\u001b[0m \u001b[0;34m\u001b[0m\u001b[0m\n\u001b[1;32m     16\u001b[0m \u001b[0;31m# Custom modules\u001b[0m\u001b[0;34m\u001b[0m\u001b[0;34m\u001b[0m\u001b[0m\n\u001b[0;32m---> 17\u001b[0;31m \u001b[0;32mfrom\u001b[0m \u001b[0msrc\u001b[0m \u001b[0;32mimport\u001b[0m \u001b[0mhyperprior\u001b[0m\u001b[0;34m\u001b[0m\u001b[0;34m\u001b[0m\u001b[0m\n\u001b[0m\u001b[1;32m     18\u001b[0m \u001b[0;32mfrom\u001b[0m \u001b[0msrc\u001b[0m\u001b[0;34m.\u001b[0m\u001b[0mloss\u001b[0m \u001b[0;32mimport\u001b[0m \u001b[0mlosses\u001b[0m\u001b[0;34m\u001b[0m\u001b[0;34m\u001b[0m\u001b[0m\n\u001b[1;32m     19\u001b[0m \u001b[0;32mfrom\u001b[0m \u001b[0msrc\u001b[0m\u001b[0;34m.\u001b[0m\u001b[0mhelpers\u001b[0m \u001b[0;32mimport\u001b[0m \u001b[0mmaths\u001b[0m\u001b[0;34m,\u001b[0m \u001b[0mdatasets\u001b[0m\u001b[0;34m,\u001b[0m \u001b[0mutils\u001b[0m\u001b[0;34m,\u001b[0m \u001b[0mmetrics\u001b[0m\u001b[0;34m\u001b[0m\u001b[0;34m\u001b[0m\u001b[0m\n",
            "\u001b[0;31mModuleNotFoundError\u001b[0m: No module named 'src'",
            "",
            "\u001b[0;31m---------------------------------------------------------------------------\u001b[0;32m\nNOTE: If your import is failing due to a missing package, you can\nmanually install dependencies using either !pip or !apt.\n\nTo view examples of installing some common dependencies, click the\n\"Open Examples\" button below.\n\u001b[0;31m---------------------------------------------------------------------------\u001b[0m\n"
          ]
        }
      ],
      "source": [
        "# Set the model to evaluation mode\n",
        "autoencoder.eval()\n",
        "\n",
        "# Get predictions for the test set\n",
        "reconstructed_images = []\n",
        "original_images = []\n",
        "with torch.no_grad():\n",
        "    for images, _ in test_loader:  # Assuming test_loader is defined\n",
        "        images = images.to(device)\n",
        "        outputs = autoencoder(images)\n",
        "        reconstructed_images.append(outputs)\n",
        "        original_images.append(images)\n",
        "\n",
        "# Concatenate the batches\n",
        "reconstructed_images = torch.cat(reconstructed_images)\n",
        "original_images = torch.cat(original_images)\n",
        "\n",
        "# Display images before and after reconstruction with PSNR values\n",
        "display_results(original_images, reconstructed_images)"
      ]
    },
    {
      "cell_type": "markdown",
      "metadata": {
        "id": "JEGCg9zRmWvd"
      },
      "source": [
        "# Conclusion\n",
        "In this notebook, we:\n",
        "- Loaded the HiFiC model using TensorFlow Compression library.\n",
        "- Demonstrated compression and decompression of a sample image.\n",
        "\n",
        "# You can now experiment further by testing with different images or tuning the model parameters!"
      ]
    }
  ],
  "metadata": {
    "colab": {
      "provenance": []
    },
    "kernelspec": {
      "display_name": "pytorch",
      "language": "python",
      "name": "python3"
    },
    "language_info": {
      "codemirror_mode": {
        "name": "ipython",
        "version": 3
      },
      "file_extension": ".py",
      "mimetype": "text/x-python",
      "name": "python",
      "nbconvert_exporter": "python",
      "pygments_lexer": "ipython3",
      "version": "3.10.10"
    }
  },
  "nbformat": 4,
  "nbformat_minor": 0
}
